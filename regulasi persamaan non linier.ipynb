{
  "nbformat": 4,
  "nbformat_minor": 0,
  "metadata": {
    "colab": {
      "provenance": [],
      "include_colab_link": true
    },
    "kernelspec": {
      "name": "python3",
      "display_name": "Python 3"
    },
    "language_info": {
      "name": "python"
    }
  },
  "cells": [
    {
      "cell_type": "markdown",
      "metadata": {
        "id": "view-in-github",
        "colab_type": "text"
      },
      "source": [
        "<a href=\"https://colab.research.google.com/github/maulidianabila/Colaboratory/blob/main/regulasi%20persamaan%20non%20linier.ipynb\" target=\"_parent\"><img src=\"https://colab.research.google.com/assets/colab-badge.svg\" alt=\"Open In Colab\"/></a>"
      ]
    },
    {
      "cell_type": "code",
      "execution_count": null,
      "metadata": {
        "colab": {
          "base_uri": "https://localhost:8080/"
        },
        "id": "elrO2SBlEUlJ",
        "outputId": "76a4df92-3ceb-48d4-def2-ff94e381895c"
      },
      "outputs": [
        {
          "output_type": "stream",
          "name": "stdout",
          "text": [
            "-------------------------------------------------------------------------------------------------------\n",
            "n                    a                    b                    x                    f(x)/toleransi      \n",
            "-------------------------------------------------------------------------------------------------------\n",
            "1                    3                    6                    4.3333333            -2.2222222          \n",
            "\n",
            "2                    4.3333333            6                    4.8461538            -0.59171598         \n",
            "\n",
            "3                    4.8461538            6                    4.968254             -0.12597632         \n",
            "\n",
            "4                    4.968254             6                    4.9936102            -0.025518276        \n",
            "\n",
            "5                    4.9936102            6                    4.9987204            -0.0051167248       \n",
            "\n",
            "6                    4.9987204            6                    4.999744             -0.0010238689       \n",
            "\n",
            "\n",
            "Nilai x didapatkan pada saat iterasi ke 6, dengan nilai x = 5\n"
          ]
        }
      ],
      "source": [
        "import math\n",
        "import numpy as np\n",
        "\n",
        "\n",
        "def f(x):\n",
        "    f = math.pow(x, 2) - 6 * x + 5\n",
        "    return f\n",
        "\n",
        "\n",
        "def regulaFalsi(a, b, toleransi, n):\n",
        "    i = 0\n",
        "    fa = f(a)\n",
        "\n",
        "    print(\"-------------------------------------------------------------------------------------------------------\")\n",
        "    print(\"%-20s %-20s %-20s %-20s %-20s\" % (\"n\", \"a\", \"b\", \"x\", \"f(x)/toleransi\"))\n",
        "    print(\"-------------------------------------------------------------------------------------------------------\")\n",
        "\n",
        "    # Dilakukan iterasi sampai dengan n yang diinginkan\n",
        "    while (i <= n):\n",
        "        x = (a * f(b) - b * f(a)) / (f(b) - f(a))\n",
        "        fx = f(x)\n",
        "        i += 1\n",
        "\n",
        "        # Jika f(x) = 0 atau akar telah ditemukan program akan berhenti.\n",
        "        # Jika |f(x)| < angka toleransi program akan berhenti. Artinya nilai toleransi/error telah dicapai.\n",
        "        if (fx == 0 or np.abs(f(x)) < toleransi):\n",
        "            print(f\"\\nNilai x didapatkan pada saat iterasi ke {i - 1}, dengan nilai x = {round(x)}\")\n",
        "            break\n",
        "        # Jika tidak maka iterasi akan terus berjalan sampai keadaan di atas.\n",
        "        else:\n",
        "            print(\"%-20.8g %-20.8g %-20.8g %-20.8g %-20.8g\\n\" % (i, a, b, x, f(x)))\n",
        "\n",
        "        # Syarat metode tertutup, pada kasus ini Regula Falsi\n",
        "        if (fa * fx > 0):\n",
        "            a = x\n",
        "        else:\n",
        "            b = x\n",
        "    return\n",
        "\n",
        "\n",
        "regulaFalsi(3, 6, 0.001, 10)"
      ]
    }
  ]
}